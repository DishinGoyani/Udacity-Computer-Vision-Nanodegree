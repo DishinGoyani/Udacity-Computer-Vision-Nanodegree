{
 "cells": [
  {
   "cell_type": "code",
   "execution_count": 5,
   "metadata": {},
   "outputs": [],
   "source": [
    "import torch\n",
    "from torch import nn\n",
    "import torch.nn.functional as F"
   ]
  },
  {
   "cell_type": "code",
   "execution_count": 6,
   "metadata": {},
   "outputs": [
    {
     "name": "stdout",
     "output_type": "stream",
     "text": [
      "tensor([[ 1.1749,  0.9119, -0.7646, -1.5695]])\n",
      "torch.Size([1, 4])\n"
     ]
    }
   ],
   "source": [
    "input_dim = 4\n",
    "inputs_list = [torch.randn(1, input_dim) for _ in range(5)]\n",
    "print(inputs_list[0])\n",
    "print(inputs_list[0].size())"
   ]
  },
  {
   "cell_type": "code",
   "execution_count": 7,
   "metadata": {},
   "outputs": [
    {
     "data": {
      "text/plain": [
       "tensor([[[ 1.1749,  0.9119, -0.7646, -1.5695]]])"
      ]
     },
     "execution_count": 7,
     "metadata": {},
     "output_type": "execute_result"
    }
   ],
   "source": [
    "inputs_list[0].view(1,1,-1)"
   ]
  },
  {
   "cell_type": "code",
   "execution_count": 14,
   "metadata": {},
   "outputs": [
    {
     "name": "stdout",
     "output_type": "stream",
     "text": [
      "tensor([ 0,  8, 12,  0, 10])\n"
     ]
    },
    {
     "data": {
      "text/plain": [
       "tensor([[ 0.0728, -1.9314, -0.6489,  0.0268, -0.5657,  0.1999],\n",
       "        [ 1.3498, -0.5485, -0.1237,  0.2012,  0.9060, -1.2608],\n",
       "        [-0.0460,  1.0053, -0.9752, -0.2309,  0.1135,  0.3091],\n",
       "        [ 0.0728, -1.9314, -0.6489,  0.0268, -0.5657,  0.1999],\n",
       "        [-0.4226, -0.2386,  0.4460, -0.7257,  0.9545,  1.4970]],\n",
       "       grad_fn=<EmbeddingBackward>)"
      ]
     },
     "execution_count": 14,
     "metadata": {},
     "output_type": "execute_result"
    }
   ],
   "source": [
    "X = torch.tensor([0,  8, 12,  0, 10])\n",
    "print(X)\n",
    "\n",
    "nn.Embedding(13, 6).forward(X)"
   ]
  },
  {
   "cell_type": "code",
   "execution_count": null,
   "metadata": {},
   "outputs": [],
   "source": []
  }
 ],
 "metadata": {
  "kernelspec": {
   "display_name": "Python 3",
   "language": "python",
   "name": "python3"
  },
  "language_info": {
   "codemirror_mode": {
    "name": "ipython",
    "version": 3
   },
   "file_extension": ".py",
   "mimetype": "text/x-python",
   "name": "python",
   "nbconvert_exporter": "python",
   "pygments_lexer": "ipython3",
   "version": "3.7.4"
  }
 },
 "nbformat": 4,
 "nbformat_minor": 2
}
